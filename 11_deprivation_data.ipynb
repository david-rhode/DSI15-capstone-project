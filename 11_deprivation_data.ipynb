{
 "cells": [
  {
   "cell_type": "markdown",
   "metadata": {},
   "source": [
    "**DEPARTMENT OF HOUSING DEPRIVATION DATA FOR 2019**\n",
    "\n",
    "The seven domains of deprivation are as follows:\n",
    "\n",
    "The Income Deprivation Domain measures the proportion of the population experiencing deprivation relating to low income. The definition of low income used includes both those people that are out-of-work, and those that are in work but who have low earnings (and who satisfy the respective means tests).\n",
    "\n",
    "The Employment Deprivation Domain measures the proportion of the working-age population in an area involuntarily excluded from the labour market. This includes people who would like to work but are unable to do so due to unemployment, sickness or disability, or caring responsibilities.\n",
    "\n",
    "The Education, Skills and Training Deprivation Domain measures the lack of attainment and skills in the local population. The indicators fall into two sub-domains: one relating to children and young people and one relating to adult skills. \n",
    "\n",
    "The Health Deprivation and Disability Domain measures the risk of premature death and the impairment of quality of life through poor physical or mental health. The domain measures morbidity, disability and premature mortality but not aspects of behaviour or environment that may be predictive of future health deprivation.\n",
    "\n",
    "The Crime Domain measures the risk of personal and material victimisation at local level. \n",
    "\n",
    "The Barriers to Housing and Services Domain measures the physical and financial accessibility of housing and local services. The indicators fall into two sub-domains: ‘geographical barriers’, which relate to the physical proximity of local services, and ‘wider barriers’ which includes issues relating to access to housing such as affordability.\n",
    "\n",
    "The Living Environment Deprivation Domain measures the quality of the local environment. The indicators fall into two sub-domains. The ‘indoors’ living environment measures the quality of housing; while the ‘outdoors’ living environment contains measures of air quality and road traffic accidents.\n",
    "\n",
    "LSOAs (Lower-layer Super Output Areas) are small areas designed to be of a similar population size, with an average of approximately 1,500 residents or 650 households. There are 32,844 Lower-layer Super Output Areas (LSOAs) in England. They were produced by the Office for National Statistics for the reporting of small area statistics.\n"
   ]
  },
  {
   "cell_type": "code",
   "execution_count": null,
   "metadata": {},
   "outputs": [],
   "source": [
    "#import data and filter for relevant columns\n",
    "\n",
    "import pandas as pd\n",
    "import geopandas as gpd\n",
    "deprivation = pd.read_csv('../../../big_files/deprivation.csv')\n",
    "cols = ['LSOA code (2011)','Income Rank (where 1 is most deprived)', 'Employment Rank (where 1 is most deprived)', 'Education, Skills and Training Rank (where 1 is most deprived)', 'Health Deprivation and Disability Score', 'Crime Rank (where 1 is most deprived)', 'Barriers to Housing and Services Rank (where 1 is most deprived)', 'Living Environment Score']\n",
    "deprivation = deprivation.rename(columns = {'LSOA code (2011)': 'lsoa'})\n"
   ]
  },
  {
   "cell_type": "code",
   "execution_count": null,
   "metadata": {},
   "outputs": [],
   "source": [
    "#import data for free school meal eligibility, no need to filter at this stage\n",
    "\n",
    "school_meals = pd.read_csv('LSOA_FreeSchoolMeals_London_LDS2015.csv')"
   ]
  }
 ],
 "metadata": {
  "kernelspec": {
   "display_name": "geo_env",
   "language": "python",
   "name": "geo_env"
  },
  "language_info": {
   "codemirror_mode": {
    "name": "ipython",
    "version": 3
   },
   "file_extension": ".py",
   "mimetype": "text/x-python",
   "name": "python",
   "nbconvert_exporter": "python",
   "pygments_lexer": "ipython3",
   "version": "3.8.5"
  }
 },
 "nbformat": 4,
 "nbformat_minor": 4
}
