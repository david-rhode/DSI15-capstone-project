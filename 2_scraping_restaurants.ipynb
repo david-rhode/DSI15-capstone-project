{
 "cells": [
  {
   "cell_type": "markdown",
   "metadata": {},
   "source": [
    "**SCRAPE POSTCODES FOR TOP RESTAURANTS FROM THE GOOD FOOD GUIDE**\n"
   ]
  },
  {
   "cell_type": "code",
   "execution_count": 16,
   "metadata": {},
   "outputs": [
    {
     "name": "stderr",
     "output_type": "stream",
     "text": [
      "100%|██████████| 44/44 [08:32<00:00, 11.64s/it]\n"
     ]
    }
   ],
   "source": [
    "import pandas as pd\n",
    "import pandas as pd\n",
    "import numpy as np\n",
    "from bs4 import BeautifulSoup\n",
    "import requests\n",
    "from tqdm import tqdm\n",
    "import time\n",
    "\n",
    "\n",
    "names = []\n",
    "postcodes = []\n",
    "\n",
    "for x in tqdm(range(1, 45)):\n",
    "    url = 'https://www.thegoodfoodguide.co.uk/search/q/London/restaurant-page/{}/'.format(x)\n",
    "    r = requests.get(url)\n",
    "    soup = BeautifulSoup(r.text, 'html.parser')\n",
    "    time.sleep(np.abs(np.random.normal(loc = 3, scale = 0.5)))\n",
    "    \n",
    "    for restaurant in soup.find_all('a', attrs={'class': 'o-faux-block-link__overlay'}):\n",
    "        href = restaurant['href']\n",
    "        try:\n",
    "            new_url = 'https://www.thegoodfoodguide.co.uk{}'.format(href)\n",
    "            r = requests.get(new_url)\n",
    "            soup = BeautifulSoup(r.text, 'html.parser')\n",
    "            postcode = soup.find('span', attrs={'itemprop': 'postalCode'}).text.strip()\n",
    "            postcodes.append(postcode)\n",
    "        except:\n",
    "            postcodes.append(np.nan)\n",
    "            \n",
    "        try:\n",
    "            new_url = 'https://www.thegoodfoodguide.co.uk{}'.format(href)\n",
    "            r = requests.get(new_url)\n",
    "            soup = BeautifulSoup(r.text, 'html.parser')\n",
    "            name = soup.find('span', attrs={'itemprop': 'streetAddress'}).text.strip()\n",
    "            names.append(name)\n",
    "        except:\n",
    "            names.append(np.nan)\n",
    "        \n",
    "        "
   ]
  },
  {
   "cell_type": "code",
   "execution_count": 41,
   "metadata": {},
   "outputs": [],
   "source": [
    "restaurants = pd.DataFrame({'name': names,\n",
    "                     'postcode': postcodes})\n",
    "\n",
    "restaurants = restaurants.dropna().reset_index(drop = True)\n",
    "\n",
    "restaurants['name'] = restaurants['name'].str.strip(',')"
   ]
  },
  {
   "cell_type": "code",
   "execution_count": 40,
   "metadata": {},
   "outputs": [],
   "source": [
    "restaurants.to_csv(r'/Users/davidrhode/Desktop/GA/DSI15-lessons/project/project-capstone/Restaurants/good-restaurants.csv', index=False)"
   ]
  }
 ],
 "metadata": {
  "kernelspec": {
   "display_name": "Python 3",
   "language": "python",
   "name": "python3"
  },
  "language_info": {
   "codemirror_mode": {
    "name": "ipython",
    "version": 3
   },
   "file_extension": ".py",
   "mimetype": "text/x-python",
   "name": "python",
   "nbconvert_exporter": "python",
   "pygments_lexer": "ipython3",
   "version": "3.8.5"
  }
 },
 "nbformat": 4,
 "nbformat_minor": 4
}
