{
 "cells": [
  {
   "cell_type": "markdown",
   "metadata": {},
   "source": [
    "**GUN AND KNIFE CRIME DATA**\n",
    "\n",
    "Only available on rolling twelve month cycle\n",
    "\n",
    "Filter for 'ward_code' and total crime volumes"
   ]
  },
  {
   "cell_type": "code",
   "execution_count": 2,
   "metadata": {},
   "outputs": [],
   "source": [
    "import geopandas as gpd\n",
    "import pandas as pd\n"
   ]
  },
  {
   "cell_type": "code",
   "execution_count": null,
   "metadata": {},
   "outputs": [],
   "source": [
    "gun = pd.read_csv('../../../big_files/gun.csv')\n",
    "gun = gun.loc[:, ['ward_code', 'total_gun_crimes']]\n",
    "knife = pd.read_csv('../../../big_files/knife.csv')\n",
    "knife = knife.loc[:, ['ward_code', 'total_knife_crimes']]"
   ]
  }
 ],
 "metadata": {
  "kernelspec": {
   "display_name": "geo_env",
   "language": "python",
   "name": "geo_env"
  },
  "language_info": {
   "codemirror_mode": {
    "name": "ipython",
    "version": 3
   },
   "file_extension": ".py",
   "mimetype": "text/x-python",
   "name": "python",
   "nbconvert_exporter": "python",
   "pygments_lexer": "ipython3",
   "version": "3.8.5"
  }
 },
 "nbformat": 4,
 "nbformat_minor": 4
}
