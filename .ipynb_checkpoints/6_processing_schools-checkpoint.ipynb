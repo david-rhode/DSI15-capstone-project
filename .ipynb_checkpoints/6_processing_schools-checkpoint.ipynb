{
 "cells": [
  {
   "cell_type": "markdown",
   "metadata": {},
   "source": [
    "**PRELIMINARY CLEANING AND PROCESSING OF DATA FROM OFSTED**\n",
    "\n",
    "- Obtain locations of all 'Outstanding' rated Ofsted schools with London postcodes.\n",
    "\n",
    "- Create a 500m radius around each school to represent a realistic catchment area, based on 'distance travelled' data."
   ]
  },
  {
   "cell_type": "code",
   "execution_count": 1,
   "metadata": {},
   "outputs": [],
   "source": [
    "# import OFSTED data and select relevant columns\n",
    "\n",
    "import pandas as pd\n",
    "import geopandas as gpd\n",
    "\n",
    "schools_all = pd.read_csv('../../../big_files/state_schools_ofsted.csv', low_memory=False, header = 1)\n",
    "cols = ['School name','Region', 'Ofsted region', 'Postcode', 'Overall effectiveness', 'Ofsted phase']\n",
    "schools = schools_all[cols]"
   ]
  },
  {
   "cell_type": "code",
   "execution_count": 6,
   "metadata": {},
   "outputs": [
    {
     "data": {
      "text/plain": [
       "Primary      16787\n",
       "Secondary     3399\n",
       "Special       1050\n",
       "Nursery        389\n",
       "PRU            348\n",
       "Name: Ofsted phase, dtype: int64"
      ]
     },
     "execution_count": 6,
     "metadata": {},
     "output_type": "execute_result"
    }
   ],
   "source": [
    "# assumption - parents don't move in order to get into Pupil Referral Units, and Special Measures are given priority - also no need to move\n",
    "\n",
    "schools['Ofsted phase'].value_counts()"
   ]
  },
  {
   "cell_type": "code",
   "execution_count": null,
   "metadata": {},
   "outputs": [],
   "source": [
    "# filter by establishment type, location, and outstanding rating\n",
    "\n",
    "london_southeast = schools[(schools['Region'] == 'London') | (schools['Region'] == 'South East')]\n",
    "primary_secondary = london_southeast[(london_southeast['Ofsted phase'] == 'Primary') | (london_southeast['Ofsted phase'] == 'Secondary')]\n",
    "outstanding = primary_secondary[primary_secondary['Overall effectiveness'] == 1]\n",
    "outstanding = outstanding.rename(columns = {'Postcode': 'postcode'})"
   ]
  },
  {
   "cell_type": "code",
   "execution_count": null,
   "metadata": {},
   "outputs": [],
   "source": [
    "# import list of london postodes with latitude and longitude coordinates, and merge with outstanding schools data\n",
    "# convert to geo dataframe, set CRS, select only postcode and geometry cols\n",
    "\n",
    "london_postcodes = pd.read_csv('../../../big_files/london_postcodes.csv')\n",
    "outstanding_postcodes = pd.merge(outstanding, london_postcodes, how = 'inner', on = 'postcode')\n",
    "schools_geo = gpd.GeoDataFrame(outstanding_postcodes, geometry = gpd.points_from_xy(outstanding_postcodes['longitude'], outstanding_postcodes['latitude']))\n",
    "schools_geo = schools_geo.set_crs(epsg= 4326)\n",
    "schools_geo = schools_geo.to_crs(epsg= 27700)\n",
    "new_cols = ['postcode', 'geometry']\n",
    "final_schools = schools_geo[new_cols]"
   ]
  },
  {
   "cell_type": "code",
   "execution_count": 17,
   "metadata": {},
   "outputs": [],
   "source": [
    "# copy dataframe and establish a 500m buffer around each school - realistic distance to get into oversubscribed, outstanding school\n",
    "\n",
    "schools_500m = final_schools.copy()\n",
    "schools_500m['geometry'] = schools_500m['geometry'].buffer(500)\n",
    "schools_500m = schools_500m.rename(columns = {'postcode': 'school_postcode'})"
   ]
  },
  {
   "cell_type": "code",
   "execution_count": 19,
   "metadata": {},
   "outputs": [],
   "source": [
    "schools_500m.to_file('../../../big_files/schools_500m.shp')"
   ]
  }
 ],
 "metadata": {
  "kernelspec": {
   "display_name": "geo_env",
   "language": "python",
   "name": "geo_env"
  },
  "language_info": {
   "codemirror_mode": {
    "name": "ipython",
    "version": 3
   },
   "file_extension": ".py",
   "mimetype": "text/x-python",
   "name": "python",
   "nbconvert_exporter": "python",
   "pygments_lexer": "ipython3",
   "version": "3.8.5"
  }
 },
 "nbformat": 4,
 "nbformat_minor": 4
}
