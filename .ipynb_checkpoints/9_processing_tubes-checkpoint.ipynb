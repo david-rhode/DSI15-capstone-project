{
 "cells": [
  {
   "cell_type": "markdown",
   "metadata": {},
   "source": [
    "**PROCESSING DATA FOR TUBE STOPS**\n",
    "\n",
    "- Create multiple geo-dataframes, each based on a different radius around each tube stop (50m, 200m etc)\n"
   ]
  },
  {
   "cell_type": "code",
   "execution_count": 1,
   "metadata": {},
   "outputs": [],
   "source": [
    "import pandas as pd\n",
    "import geopandas as gpd"
   ]
  },
  {
   "cell_type": "code",
   "execution_count": 2,
   "metadata": {},
   "outputs": [],
   "source": [
    "#import geodata for stops on each of the tube lines, concatenate and drop duplicates (stops that are on more than one line)\n",
    "\n",
    "bakerloo = pd.read_csv('Bakerloo.csv')\n",
    "central = pd.read_csv('Central .csv')\n",
    "circle = pd.read_csv('Circle.csv')\n",
    "district = pd.read_csv('District.csv')\n",
    "hammersmith = pd.read_csv('Hammersmith and City.csv')\n",
    "jubilee = pd.read_csv('Jubilee.csv')\n",
    "metropolitan = pd.read_csv('Metropolitan.csv')\n",
    "northern = pd.read_csv('Northern.csv')\n",
    "piccadilly = pd.read_csv('Piccadilly.csv')\n",
    "victoria = pd.read_csv('Victoria.csv')\n",
    "\n",
    "tubes = pd.concat([victoria, piccadilly, northern, metropolitan, jubilee, hammersmith, district, circle, central, bakerloo])\n",
    "tubes = tubes.drop_duplicates()"
   ]
  },
  {
   "cell_type": "code",
   "execution_count": 3,
   "metadata": {},
   "outputs": [
    {
     "data": {
      "text/plain": [
       "<Projected CRS: EPSG:27700>\n",
       "Name: OSGB 1936 / British National Grid\n",
       "Axis Info [cartesian]:\n",
       "- E[east]: Easting (metre)\n",
       "- N[north]: Northing (metre)\n",
       "Area of Use:\n",
       "- name: United Kingdom (UK) - offshore to boundary of UKCS within 49°45'N to 61°N and 9°W to 2°E; onshore Great Britain (England, Wales and Scotland). Isle of Man onshore.\n",
       "- bounds: (-9.0, 49.75, 2.01, 61.01)\n",
       "Coordinate Operation:\n",
       "- name: British National Grid\n",
       "- method: Transverse Mercator\n",
       "Datum: OSGB 1936\n",
       "- Ellipsoid: Airy 1830\n",
       "- Prime Meridian: Greenwich"
      ]
     },
     "execution_count": 3,
     "metadata": {},
     "output_type": "execute_result"
    }
   ],
   "source": [
    "# convert to geo-dataframe, set CRS to cartesian map coordinates\n",
    "\n",
    "tubes_gdf = gpd.GeoDataFrame(tubes, geometry = gpd.points_from_xy(tubes['OS X'], tubes['OS Y']))\n",
    "tubes_gdf = tubes_gdf.set_crs(epsg= 27700)\n",
    "tubes_gdf = tubes_gdf.to_crs(epsg= 27700)\n",
    "tubes_gdf.crs"
   ]
  },
  {
   "cell_type": "code",
   "execution_count": 6,
   "metadata": {},
   "outputs": [
    {
     "data": {
      "text/html": [
       "<div>\n",
       "<style scoped>\n",
       "    .dataframe tbody tr th:only-of-type {\n",
       "        vertical-align: middle;\n",
       "    }\n",
       "\n",
       "    .dataframe tbody tr th {\n",
       "        vertical-align: top;\n",
       "    }\n",
       "\n",
       "    .dataframe thead th {\n",
       "        text-align: right;\n",
       "    }\n",
       "</style>\n",
       "<table border=\"1\" class=\"dataframe\">\n",
       "  <thead>\n",
       "    <tr style=\"text-align: right;\">\n",
       "      <th></th>\n",
       "      <th>zone_50m</th>\n",
       "      <th>geometry</th>\n",
       "    </tr>\n",
       "  </thead>\n",
       "  <tbody>\n",
       "    <tr>\n",
       "      <th>0</th>\n",
       "      <td>3</td>\n",
       "      <td>POLYGON ((535964.000 189256.000, 535963.759 18...</td>\n",
       "    </tr>\n",
       "  </tbody>\n",
       "</table>\n",
       "</div>"
      ],
      "text/plain": [
       "  zone_50m                                           geometry\n",
       "0        3  POLYGON ((535964.000 189256.000, 535963.759 18..."
      ]
     },
     "execution_count": 6,
     "metadata": {},
     "output_type": "execute_result"
    }
   ],
   "source": [
    "# create a 50 metre radius around each tube station\n",
    "\n",
    "tubes_50m = tubes_gdf.copy()\n",
    "tubes_50m['geometry'] = tubes_50m['geometry'].buffer(50)\n",
    "cols = ['Zone', 'geometry']\n",
    "tubes_50m = tubes_50m[cols]\n",
    "tubes_50m = tubes_50m.rename(columns = {'Zone': 'zone_50m'})\n",
    "tubes_50m.head(1)"
   ]
  },
  {
   "cell_type": "code",
   "execution_count": 14,
   "metadata": {},
   "outputs": [
    {
     "data": {
      "text/html": [
       "<div>\n",
       "<style scoped>\n",
       "    .dataframe tbody tr th:only-of-type {\n",
       "        vertical-align: middle;\n",
       "    }\n",
       "\n",
       "    .dataframe tbody tr th {\n",
       "        vertical-align: top;\n",
       "    }\n",
       "\n",
       "    .dataframe thead th {\n",
       "        text-align: right;\n",
       "    }\n",
       "</style>\n",
       "<table border=\"1\" class=\"dataframe\">\n",
       "  <thead>\n",
       "    <tr style=\"text-align: right;\">\n",
       "      <th></th>\n",
       "      <th>zone_200m</th>\n",
       "      <th>geometry</th>\n",
       "    </tr>\n",
       "  </thead>\n",
       "  <tbody>\n",
       "    <tr>\n",
       "      <th>0</th>\n",
       "      <td>3</td>\n",
       "      <td>POLYGON ((536114.000 189256.000, 536113.037 18...</td>\n",
       "    </tr>\n",
       "  </tbody>\n",
       "</table>\n",
       "</div>"
      ],
      "text/plain": [
       "  zone_200m                                           geometry\n",
       "0         3  POLYGON ((536114.000 189256.000, 536113.037 18..."
      ]
     },
     "execution_count": 14,
     "metadata": {},
     "output_type": "execute_result"
    }
   ],
   "source": [
    "# create a 200 metre radius around each tube station\n",
    "\n",
    "tubes_200m = tubes_gdf.copy()\n",
    "tubes_200m['geometry'] = tubes_200m['geometry'].buffer(200)\n",
    "tubes_200m = tubes_200m[cols]\n",
    "tubes_200m = tubes_200m.rename(columns = {'Zone': 'zone_200m'})\n",
    "tubes_200m.head(1)"
   ]
  },
  {
   "cell_type": "code",
   "execution_count": 21,
   "metadata": {},
   "outputs": [
    {
     "data": {
      "text/html": [
       "<div>\n",
       "<style scoped>\n",
       "    .dataframe tbody tr th:only-of-type {\n",
       "        vertical-align: middle;\n",
       "    }\n",
       "\n",
       "    .dataframe tbody tr th {\n",
       "        vertical-align: top;\n",
       "    }\n",
       "\n",
       "    .dataframe thead th {\n",
       "        text-align: right;\n",
       "    }\n",
       "</style>\n",
       "<table border=\"1\" class=\"dataframe\">\n",
       "  <thead>\n",
       "    <tr style=\"text-align: right;\">\n",
       "      <th></th>\n",
       "      <th>zone_400m</th>\n",
       "      <th>geometry</th>\n",
       "    </tr>\n",
       "  </thead>\n",
       "  <tbody>\n",
       "    <tr>\n",
       "      <th>0</th>\n",
       "      <td>3</td>\n",
       "      <td>POLYGON ((536314.000 189256.000, 536312.074 18...</td>\n",
       "    </tr>\n",
       "  </tbody>\n",
       "</table>\n",
       "</div>"
      ],
      "text/plain": [
       "  zone_400m                                           geometry\n",
       "0         3  POLYGON ((536314.000 189256.000, 536312.074 18..."
      ]
     },
     "execution_count": 21,
     "metadata": {},
     "output_type": "execute_result"
    }
   ],
   "source": [
    "# create a 400 metre radius around each tube station\n",
    "\n",
    "tubes_400m = tubes_gdf.copy()\n",
    "tubes_400m['geometry'] = tubes_400m['geometry'].buffer(400)\n",
    "tubes_400m = tubes_400m[cols]\n",
    "tubes_400m = tubes_400m.rename(columns = {'Zone': 'zone_400m'})\n",
    "tubes_400m.head(1)"
   ]
  },
  {
   "cell_type": "code",
   "execution_count": 27,
   "metadata": {},
   "outputs": [
    {
     "data": {
      "text/html": [
       "<div>\n",
       "<style scoped>\n",
       "    .dataframe tbody tr th:only-of-type {\n",
       "        vertical-align: middle;\n",
       "    }\n",
       "\n",
       "    .dataframe tbody tr th {\n",
       "        vertical-align: top;\n",
       "    }\n",
       "\n",
       "    .dataframe thead th {\n",
       "        text-align: right;\n",
       "    }\n",
       "</style>\n",
       "<table border=\"1\" class=\"dataframe\">\n",
       "  <thead>\n",
       "    <tr style=\"text-align: right;\">\n",
       "      <th></th>\n",
       "      <th>zone_800m</th>\n",
       "      <th>geometry</th>\n",
       "    </tr>\n",
       "  </thead>\n",
       "  <tbody>\n",
       "    <tr>\n",
       "      <th>0</th>\n",
       "      <td>3</td>\n",
       "      <td>POLYGON ((536714.000 189256.000, 536710.148 18...</td>\n",
       "    </tr>\n",
       "  </tbody>\n",
       "</table>\n",
       "</div>"
      ],
      "text/plain": [
       "  zone_800m                                           geometry\n",
       "0         3  POLYGON ((536714.000 189256.000, 536710.148 18..."
      ]
     },
     "execution_count": 27,
     "metadata": {},
     "output_type": "execute_result"
    }
   ],
   "source": [
    "# create a 800 metre radius around each tube station\n",
    "\n",
    "tubes_800m = tubes_gdf.copy()\n",
    "tubes_800m['geometry'] = tubes_800m['geometry'].buffer(800)\n",
    "tubes_800m = tubes_800m[cols]\n",
    "tubes_800m = tubes_800m.rename(columns = {'Zone': 'zone_800m'})\n",
    "tubes_800m.head(1)"
   ]
  },
  {
   "cell_type": "code",
   "execution_count": 32,
   "metadata": {},
   "outputs": [
    {
     "data": {
      "text/html": [
       "<div>\n",
       "<style scoped>\n",
       "    .dataframe tbody tr th:only-of-type {\n",
       "        vertical-align: middle;\n",
       "    }\n",
       "\n",
       "    .dataframe tbody tr th {\n",
       "        vertical-align: top;\n",
       "    }\n",
       "\n",
       "    .dataframe thead th {\n",
       "        text-align: right;\n",
       "    }\n",
       "</style>\n",
       "<table border=\"1\" class=\"dataframe\">\n",
       "  <thead>\n",
       "    <tr style=\"text-align: right;\">\n",
       "      <th></th>\n",
       "      <th>zone_1600m</th>\n",
       "      <th>geometry</th>\n",
       "    </tr>\n",
       "  </thead>\n",
       "  <tbody>\n",
       "    <tr>\n",
       "      <th>0</th>\n",
       "      <td>3</td>\n",
       "      <td>POLYGON ((537514.000 189256.000, 537506.296 18...</td>\n",
       "    </tr>\n",
       "  </tbody>\n",
       "</table>\n",
       "</div>"
      ],
      "text/plain": [
       "  zone_1600m                                           geometry\n",
       "0          3  POLYGON ((537514.000 189256.000, 537506.296 18..."
      ]
     },
     "execution_count": 32,
     "metadata": {},
     "output_type": "execute_result"
    }
   ],
   "source": [
    "# create a 1600 metre radius around each tube station\n",
    "\n",
    "tubes_1600m = tubes_gdf.copy()\n",
    "tubes_1600m['geometry'] = tubes_1600m['geometry'].buffer(1600)\n",
    "tubes_1600m = tubes_1600m[cols]\n",
    "tubes_1600m = tubes_1600m.rename(columns = {'Zone': 'zone_1600m'})\n",
    "tubes_1600m.head(1)"
   ]
  },
  {
   "cell_type": "code",
   "execution_count": 37,
   "metadata": {},
   "outputs": [
    {
     "data": {
      "text/html": [
       "<div>\n",
       "<style scoped>\n",
       "    .dataframe tbody tr th:only-of-type {\n",
       "        vertical-align: middle;\n",
       "    }\n",
       "\n",
       "    .dataframe tbody tr th {\n",
       "        vertical-align: top;\n",
       "    }\n",
       "\n",
       "    .dataframe thead th {\n",
       "        text-align: right;\n",
       "    }\n",
       "</style>\n",
       "<table border=\"1\" class=\"dataframe\">\n",
       "  <thead>\n",
       "    <tr style=\"text-align: right;\">\n",
       "      <th></th>\n",
       "      <th>zone_2400m</th>\n",
       "      <th>geometry</th>\n",
       "    </tr>\n",
       "  </thead>\n",
       "  <tbody>\n",
       "    <tr>\n",
       "      <th>0</th>\n",
       "      <td>3</td>\n",
       "      <td>POLYGON ((538314.000 189256.000, 538302.443 18...</td>\n",
       "    </tr>\n",
       "  </tbody>\n",
       "</table>\n",
       "</div>"
      ],
      "text/plain": [
       "  zone_2400m                                           geometry\n",
       "0          3  POLYGON ((538314.000 189256.000, 538302.443 18..."
      ]
     },
     "execution_count": 37,
     "metadata": {},
     "output_type": "execute_result"
    }
   ],
   "source": [
    "# create a 2400 metre radius around each tube station\n",
    "\n",
    "tubes_2400m = tubes_gdf.copy()\n",
    "tubes_2400m['geometry'] = tubes_2400m['geometry'].buffer(2400)\n",
    "tubes_2400m = tubes_2400m[cols]\n",
    "tubes_2400m = tubes_2400m.rename(columns = {'Zone': 'zone_2400m'})\n",
    "tubes_2400m.head(1)"
   ]
  },
  {
   "cell_type": "code",
   "execution_count": 104,
   "metadata": {},
   "outputs": [],
   "source": [
    "tubes_2400m.to_file('../../../big_files/tubes2400m.shp')\n",
    "tubes_1600m.to_file('../../../big_files/tubes1600m.shp')\n",
    "tubes_800m.to_file('../../../big_files/tubes800m.shp')\n",
    "tubes_400m.to_file('../../../big_files/tubes400m.shp')\n",
    "tubes_200m.to_file('../../../big_files/tubes200m.shp')\n",
    "tubes_50m.to_file('../../../big_files/tubes50m.shp')"
   ]
  }
 ],
 "metadata": {
  "kernelspec": {
   "display_name": "geo_env",
   "language": "python",
   "name": "geo_env"
  },
  "language_info": {
   "codemirror_mode": {
    "name": "ipython",
    "version": 3
   },
   "file_extension": ".py",
   "mimetype": "text/x-python",
   "name": "python",
   "nbconvert_exporter": "python",
   "pygments_lexer": "ipython3",
   "version": "3.8.5"
  }
 },
 "nbformat": 4,
 "nbformat_minor": 4
}
