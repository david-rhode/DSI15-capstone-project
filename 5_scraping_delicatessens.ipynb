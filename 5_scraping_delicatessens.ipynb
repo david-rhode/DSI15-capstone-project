{
 "cells": [
  {
   "cell_type": "markdown",
   "metadata": {},
   "source": [
    "**SCRAPE ALL IN LONDON FOR DELICATESSEN POSTCODES**"
   ]
  },
  {
   "cell_type": "code",
   "execution_count": 36,
   "metadata": {},
   "outputs": [
    {
     "name": "stderr",
     "output_type": "stream",
     "text": [
      "100%|██████████| 63/63 [03:39<00:00,  3.48s/it]\n"
     ]
    }
   ],
   "source": [
    "import pandas as pd\n",
    "import pandas as pd\n",
    "import numpy as np\n",
    "from bs4 import BeautifulSoup\n",
    "import requests\n",
    "from tqdm import tqdm\n",
    "import time\n",
    "\n",
    "\n",
    "names = []\n",
    "addresses = []\n",
    "\n",
    "for x in tqdm(range(1, 64)):\n",
    "    url = 'https://www.allinlondon.co.uk/directory/delicatessens?page={}'.format(x)\n",
    "    r = requests.get(url)\n",
    "    soup = BeautifulSoup(r.text, 'html.parser')\n",
    "    time.sleep(np.abs(np.random.normal(loc = 3, scale = 0.5)))\n",
    "    \n",
    "    for deli in soup.find_all('div', attrs={'class':'bg-brand-section p-3 mb-3'}):\n",
    "        try:\n",
    "            names.append(deli.find('a', attrs={'class':'h5'}).text.strip())\n",
    "        except:\n",
    "            names.append(np.nan)\n",
    "\n",
    "        try:\n",
    "            addresses.append(deli.find('div', attrs={'class':'text-muted mb-1'}).text.strip())\n",
    "        except:\n",
    "            addresses.append(np.nan)\n",
    "\n"
   ]
  },
  {
   "cell_type": "code",
   "execution_count": 39,
   "metadata": {},
   "outputs": [],
   "source": [
    "delicatessens = pd.DataFrame({'name': names,\n",
    "                     'address': addresses})\n",
    "\n",
    "delicatessens = delicatessens.dropna()"
   ]
  },
  {
   "cell_type": "code",
   "execution_count": 52,
   "metadata": {},
   "outputs": [
    {
     "name": "stderr",
     "output_type": "stream",
     "text": [
      "<ipython-input-52-27ab6554e688>:4: SettingWithCopyWarning: \n",
      "A value is trying to be set on a copy of a slice from a DataFrame.\n",
      "Try using .loc[row_indexer,col_indexer] = value instead\n",
      "\n",
      "See the caveats in the documentation: https://pandas.pydata.org/pandas-docs/stable/user_guide/indexing.html#returning-a-view-versus-a-copy\n",
      "  delicatessens['postcode'] = delicatessens['address'].str.extract(pattern_1)\n"
     ]
    },
    {
     "data": {
      "text/html": [
       "<div>\n",
       "<style scoped>\n",
       "    .dataframe tbody tr th:only-of-type {\n",
       "        vertical-align: middle;\n",
       "    }\n",
       "\n",
       "    .dataframe tbody tr th {\n",
       "        vertical-align: top;\n",
       "    }\n",
       "\n",
       "    .dataframe thead th {\n",
       "        text-align: right;\n",
       "    }\n",
       "</style>\n",
       "<table border=\"1\" class=\"dataframe\">\n",
       "  <thead>\n",
       "    <tr style=\"text-align: right;\">\n",
       "      <th></th>\n",
       "      <th>name</th>\n",
       "      <th>address</th>\n",
       "      <th>postcode</th>\n",
       "    </tr>\n",
       "  </thead>\n",
       "  <tbody>\n",
       "    <tr>\n",
       "      <th>2</th>\n",
       "      <td>2 Friends</td>\n",
       "      <td>374 Caledonian Road N1 1DY</td>\n",
       "      <td>N1 1DY</td>\n",
       "    </tr>\n",
       "    <tr>\n",
       "      <th>3</th>\n",
       "      <td>327 Caledonian Road</td>\n",
       "      <td>327 Caledonian Road N1 1DW</td>\n",
       "      <td>N1 1DW</td>\n",
       "    </tr>\n",
       "    <tr>\n",
       "      <th>4</th>\n",
       "      <td>4 Cose</td>\n",
       "      <td>7 Vyner Street E2 9DG</td>\n",
       "      <td>E2 9DG</td>\n",
       "    </tr>\n",
       "    <tr>\n",
       "      <th>5</th>\n",
       "      <td>4 Kujawiak</td>\n",
       "      <td>1 South Ealing Road W5 4QA</td>\n",
       "      <td>W5 4QA</td>\n",
       "    </tr>\n",
       "    <tr>\n",
       "      <th>6</th>\n",
       "      <td>8 Rocks</td>\n",
       "      <td>238 High Road IG10 1RB</td>\n",
       "      <td>IG10 1RB</td>\n",
       "    </tr>\n",
       "  </tbody>\n",
       "</table>\n",
       "</div>"
      ],
      "text/plain": [
       "                  name                     address  postcode\n",
       "2            2 Friends  374 Caledonian Road N1 1DY    N1 1DY\n",
       "3  327 Caledonian Road  327 Caledonian Road N1 1DW    N1 1DW\n",
       "4               4 Cose       7 Vyner Street E2 9DG    E2 9DG\n",
       "5           4 Kujawiak  1 South Ealing Road W5 4QA    W5 4QA\n",
       "6              8 Rocks      238 High Road IG10 1RB  IG10 1RB"
      ]
     },
     "execution_count": 52,
     "metadata": {},
     "output_type": "execute_result"
    }
   ],
   "source": [
    "# use a regular expression to extract the postcode from the address column\n",
    "\n",
    "import re\n",
    "pattern_1 = r'([A-Z][A-Z0-9]{0,1}[A-Z0-9]{0,2} {0,}[0-9][A-Z]{0,2})'\n",
    "\n",
    "delicatessens['postcode'] = delicatessens['address'].str.extract(pattern_1)\n",
    "delicatessens.head()"
   ]
  },
  {
   "cell_type": "code",
   "execution_count": null,
   "metadata": {},
   "outputs": [],
   "source": [
    "delicatessens = delicatessens.drop(columns = ['address'])"
   ]
  },
  {
   "cell_type": "code",
   "execution_count": 60,
   "metadata": {},
   "outputs": [
    {
     "data": {
      "text/html": [
       "<div>\n",
       "<style scoped>\n",
       "    .dataframe tbody tr th:only-of-type {\n",
       "        vertical-align: middle;\n",
       "    }\n",
       "\n",
       "    .dataframe tbody tr th {\n",
       "        vertical-align: top;\n",
       "    }\n",
       "\n",
       "    .dataframe thead th {\n",
       "        text-align: right;\n",
       "    }\n",
       "</style>\n",
       "<table border=\"1\" class=\"dataframe\">\n",
       "  <thead>\n",
       "    <tr style=\"text-align: right;\">\n",
       "      <th></th>\n",
       "      <th>name</th>\n",
       "      <th>postcode</th>\n",
       "    </tr>\n",
       "  </thead>\n",
       "  <tbody>\n",
       "    <tr>\n",
       "      <th>0</th>\n",
       "      <td>2 Friends</td>\n",
       "      <td>N1 1DY</td>\n",
       "    </tr>\n",
       "    <tr>\n",
       "      <th>1</th>\n",
       "      <td>327 Caledonian Road</td>\n",
       "      <td>N1 1DW</td>\n",
       "    </tr>\n",
       "    <tr>\n",
       "      <th>2</th>\n",
       "      <td>4 Cose</td>\n",
       "      <td>E2 9DG</td>\n",
       "    </tr>\n",
       "    <tr>\n",
       "      <th>3</th>\n",
       "      <td>4 Kujawiak</td>\n",
       "      <td>W5 4QA</td>\n",
       "    </tr>\n",
       "    <tr>\n",
       "      <th>4</th>\n",
       "      <td>8 Rocks</td>\n",
       "      <td>IG10 1RB</td>\n",
       "    </tr>\n",
       "    <tr>\n",
       "      <th>...</th>\n",
       "      <td>...</td>\n",
       "      <td>...</td>\n",
       "    </tr>\n",
       "    <tr>\n",
       "      <th>1239</th>\n",
       "      <td>Zagorska</td>\n",
       "      <td>DA1 1DJ</td>\n",
       "    </tr>\n",
       "    <tr>\n",
       "      <th>1240</th>\n",
       "      <td>Zarco</td>\n",
       "      <td>SW8 1AA</td>\n",
       "    </tr>\n",
       "    <tr>\n",
       "      <th>1241</th>\n",
       "      <td>Zelas Wines &amp; Deli</td>\n",
       "      <td>N6 5AX</td>\n",
       "    </tr>\n",
       "    <tr>\n",
       "      <th>1242</th>\n",
       "      <td>Zloty Polish Shop</td>\n",
       "      <td>N22 6EB</td>\n",
       "    </tr>\n",
       "    <tr>\n",
       "      <th>1243</th>\n",
       "      <td>Zoran's</td>\n",
       "      <td>TW1 3EE</td>\n",
       "    </tr>\n",
       "  </tbody>\n",
       "</table>\n",
       "<p>1244 rows × 2 columns</p>\n",
       "</div>"
      ],
      "text/plain": [
       "                     name  postcode\n",
       "0               2 Friends    N1 1DY\n",
       "1     327 Caledonian Road    N1 1DW\n",
       "2                  4 Cose    E2 9DG\n",
       "3              4 Kujawiak    W5 4QA\n",
       "4                 8 Rocks  IG10 1RB\n",
       "...                   ...       ...\n",
       "1239             Zagorska   DA1 1DJ\n",
       "1240                Zarco   SW8 1AA\n",
       "1241   Zelas Wines & Deli    N6 5AX\n",
       "1242    Zloty Polish Shop   N22 6EB\n",
       "1243              Zoran's   TW1 3EE\n",
       "\n",
       "[1244 rows x 2 columns]"
      ]
     },
     "execution_count": 60,
     "metadata": {},
     "output_type": "execute_result"
    }
   ],
   "source": [
    "delicatessens = delicatessens.reset_index(drop = True)\n",
    "delicatessens"
   ]
  },
  {
   "cell_type": "code",
   "execution_count": 61,
   "metadata": {},
   "outputs": [],
   "source": [
    "delicatessens.to_csv(r'/Users/davidrhode/Desktop/GA/DSI15-lessons/project/project-capstone/Delicatessens/delicatessens.csv', index=False)"
   ]
  }
 ],
 "metadata": {
  "kernelspec": {
   "display_name": "Python 3",
   "language": "python",
   "name": "python3"
  },
  "language_info": {
   "codemirror_mode": {
    "name": "ipython",
    "version": 3
   },
   "file_extension": ".py",
   "mimetype": "text/x-python",
   "name": "python",
   "nbconvert_exporter": "python",
   "pygments_lexer": "ipython3",
   "version": "3.8.5"
  }
 },
 "nbformat": 4,
 "nbformat_minor": 4
}
