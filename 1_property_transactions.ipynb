{
 "cells": [
  {
   "cell_type": "markdown",
   "metadata": {},
   "source": [
    "# **DSI15 CAPSTONE PROJECT**\n",
    "\n",
    "An investigation into how far location determines the value of a London property. Please see README for a full description of the problem statement, background and process.\n",
    "\n",
    "We begin the project by downloading transaction data from the Land Registry for sales during the five years to March 2020.\n",
    "\n",
    "Basic cleaning and preliminary EDA will follow.\n"
   ]
  },
  {
   "cell_type": "code",
   "execution_count": 97,
   "metadata": {},
   "outputs": [],
   "source": [
    "import pandas as pd\n",
    "import seaborn as sns\n",
    "import matplotlib.pyplot as plt\n",
    "%matplotlib inline\n",
    "sns.set_style('darkgrid')\n",
    "\n",
    "\n",
    "transactions_19_20 = pd.read_csv('ppd_data_19_20.csv', header = None)\n",
    "transactions_18_19 = pd.read_csv('ppd_data_18_19.csv', header = None)\n",
    "transactions_17_18 = pd.read_csv('ppd_data_17_18.csv', header = None)\n",
    "transactions_16_17 = pd.read_csv('ppd_data_16_17.csv', header = None)\n",
    "transactions_15_16 = pd.read_csv('ppd_data_15-16.csv', header = None)\n",
    "\n",
    "all_transactions = pd.concat([transactions_15_16, transactions_16_17, transactions_17_18, transactions_18_19, transactions_19_20])\n",
    "all_transactions = all_transactions.drop_duplicates()"
   ]
  },
  {
   "cell_type": "code",
   "execution_count": 107,
   "metadata": {},
   "outputs": [],
   "source": [
    "# rename the columns based on information from Land Registry\n",
    "\n",
    "naming_dict = {0: 'reference' ,\n",
    "              1: 'price',\n",
    "              2: 'date',\n",
    "              3: 'postcode',\n",
    "              4: 'property_type',\n",
    "              5: 'new_build',\n",
    "              6: 'estate_type',\n",
    "              7: 'primary_address',\n",
    "              8: 'secondary_address',\n",
    "              9: 'street',\n",
    "              10: 'locality',\n",
    "              11: 'city',\n",
    "              12: 'district',\n",
    "              13: 'county',\n",
    "              14: 'transaction_type',\n",
    "              15: 'url'}\n",
    "\n",
    "all_transactions = all_transactions.rename(columns = naming_dict)"
   ]
  },
  {
   "cell_type": "code",
   "execution_count": 109,
   "metadata": {},
   "outputs": [
    {
     "data": {
      "text/html": [
       "<div>\n",
       "<style scoped>\n",
       "    .dataframe tbody tr th:only-of-type {\n",
       "        vertical-align: middle;\n",
       "    }\n",
       "\n",
       "    .dataframe tbody tr th {\n",
       "        vertical-align: top;\n",
       "    }\n",
       "\n",
       "    .dataframe thead th {\n",
       "        text-align: right;\n",
       "    }\n",
       "</style>\n",
       "<table border=\"1\" class=\"dataframe\">\n",
       "  <thead>\n",
       "    <tr style=\"text-align: right;\">\n",
       "      <th></th>\n",
       "      <th>reference</th>\n",
       "      <th>price</th>\n",
       "      <th>date</th>\n",
       "      <th>postcode</th>\n",
       "      <th>property_type</th>\n",
       "      <th>new_build</th>\n",
       "      <th>estate_type</th>\n",
       "      <th>primary_address</th>\n",
       "      <th>secondary_address</th>\n",
       "      <th>street</th>\n",
       "      <th>locality</th>\n",
       "      <th>city</th>\n",
       "      <th>district</th>\n",
       "      <th>county</th>\n",
       "      <th>transaction_type</th>\n",
       "      <th>url</th>\n",
       "    </tr>\n",
       "  </thead>\n",
       "  <tbody>\n",
       "    <tr>\n",
       "      <th>0</th>\n",
       "      <td>25EA59F9-A161-4D50-E050-A8C0630562D0</td>\n",
       "      <td>455000</td>\n",
       "      <td>2015-10-23</td>\n",
       "      <td>E1 0AE</td>\n",
       "      <td>F</td>\n",
       "      <td>N</td>\n",
       "      <td>L</td>\n",
       "      <td>NaN</td>\n",
       "      <td>338</td>\n",
       "      <td>CABLE STREET</td>\n",
       "      <td>NaN</td>\n",
       "      <td>LONDON</td>\n",
       "      <td>TOWER HAMLETS</td>\n",
       "      <td>GREATER LONDON</td>\n",
       "      <td>A</td>\n",
       "      <td>http://landregistry.data.gov.uk/data/ppi/trans...</td>\n",
       "    </tr>\n",
       "  </tbody>\n",
       "</table>\n",
       "</div>"
      ],
      "text/plain": [
       "                              reference   price        date postcode  \\\n",
       "0  25EA59F9-A161-4D50-E050-A8C0630562D0  455000  2015-10-23   E1 0AE   \n",
       "\n",
       "  property_type new_build estate_type primary_address secondary_address  \\\n",
       "0             F         N           L             NaN               338   \n",
       "\n",
       "         street locality    city       district          county  \\\n",
       "0  CABLE STREET      NaN  LONDON  TOWER HAMLETS  GREATER LONDON   \n",
       "\n",
       "  transaction_type                                                url  \n",
       "0                A  http://landregistry.data.gov.uk/data/ppi/trans...  "
      ]
     },
     "execution_count": 109,
     "metadata": {},
     "output_type": "execute_result"
    }
   ],
   "source": [
    "all_transactions.head(1)"
   ]
  },
  {
   "cell_type": "code",
   "execution_count": 25,
   "metadata": {},
   "outputs": [
    {
     "data": {
      "text/plain": [
       "67341"
      ]
     },
     "execution_count": 25,
     "metadata": {},
     "output_type": "execute_result"
    }
   ],
   "source": [
    "# confirm the number of unique postcodes within the dataset\n",
    "\n",
    "all_transactions['postcode'].nunique()"
   ]
  },
  {
   "cell_type": "code",
   "execution_count": 118,
   "metadata": {},
   "outputs": [
    {
     "data": {
      "text/plain": [
       "(351443, 11)"
      ]
     },
     "execution_count": 118,
     "metadata": {},
     "output_type": "execute_result"
    }
   ],
   "source": [
    "# copy the dataset, and select only the columns we will need\n",
    "\n",
    "cleaned_transactions = all_transactions.copy()\n",
    "cleaned_transactions = cleaned_transactions[['reference','price', 'date', 'postcode', 'property_type', 'new_build', 'estate_type', 'primary_address','secondary_address','district', 'transaction_type']]\n",
    "cleaned_transactions.shape"
   ]
  },
  {
   "cell_type": "code",
   "execution_count": 64,
   "metadata": {},
   "outputs": [
    {
     "data": {
      "text/plain": [
       "reference                 0\n",
       "price                     0\n",
       "date                      0\n",
       "postcode               2315\n",
       "property_type             0\n",
       "new_build                 0\n",
       "estate_type               0\n",
       "primary_address      172836\n",
       "secondary_address         0\n",
       "district                  0\n",
       "transaction_type          0\n",
       "dtype: int64"
      ]
     },
     "execution_count": 64,
     "metadata": {},
     "output_type": "execute_result"
    }
   ],
   "source": [
    "# check for missing values\n",
    "\n",
    "cleaned_transactions.isna().sum()"
   ]
  },
  {
   "cell_type": "code",
   "execution_count": 119,
   "metadata": {},
   "outputs": [
    {
     "data": {
      "text/plain": [
       "F    228703\n",
       "T     73264\n",
       "O     24197\n",
       "S     19782\n",
       "D      5497\n",
       "Name: property_type, dtype: int64"
      ]
     },
     "execution_count": 119,
     "metadata": {},
     "output_type": "execute_result"
    }
   ],
   "source": [
    "# checking tranasactions are all relevant\n",
    "\n",
    "cleaned_transactions['property_type'].value_counts()"
   ]
  },
  {
   "cell_type": "markdown",
   "metadata": {},
   "source": [
    "**PROPERTY TYPES**\t\n",
    "\n",
    "D = Detached, S = Semi-Detached, T = Terraced, F = Flats/Maisonettes, O = Other\n",
    "\n",
    "According to the Land Registry:\n",
    "\n",
    "- We only record the above categories to describe property type, we do not separately identify bungalows.\n",
    "- End-of-terrace properties are included in the Terraced category above.\n",
    "- ‘Other’ is only valid where the transaction relates to a property type that is not covered by existing values.\n",
    "\n",
    "Property type 'Other' includes mixed use properties, and properties being sold for redevelopment (including a pub, an Esso garage etc). These should be dropped, we are focused on residential properties that are being sold as such."
   ]
  },
  {
   "cell_type": "code",
   "execution_count": 120,
   "metadata": {},
   "outputs": [
    {
     "data": {
      "text/plain": [
       "(327246, 11)"
      ]
     },
     "execution_count": 120,
     "metadata": {},
     "output_type": "execute_result"
    }
   ],
   "source": [
    "other = cleaned_transactions['property_type'] == 'O'\n",
    "cleaned_transactions = cleaned_transactions.loc[~other]\n",
    "cleaned_transactions.shape"
   ]
  },
  {
   "cell_type": "code",
   "execution_count": 121,
   "metadata": {},
   "outputs": [
    {
     "data": {
      "text/plain": [
       "max    160000000\n",
       "min          400\n",
       "Name: price, dtype: int64"
      ]
     },
     "execution_count": 121,
     "metadata": {},
     "output_type": "execute_result"
    }
   ],
   "source": [
    "#checking for outliers on price\n",
    "\n",
    "cleaned_transactions['price'].agg(['max', 'min'])"
   ]
  },
  {
   "cell_type": "markdown",
   "metadata": {},
   "source": [
    "**DEALING WITH PRICE OUTLIERS**\n",
    "\n",
    "While the upper price limit of £160m looks realistic (part of the development at One Hyde Park), the lower limit of £400 doesn't. There are a couple of hundred properties at the low end of the price scale where the prices are simply unrealistic.\n",
    "\n",
    "Amongst these are freehold terraced or semi detached properties in desirable locations - these all fall within 'transaction_type B'. When we investigate what this means, we find out that:\n",
    "\n",
    "'PPD Category Type - Indicates the type of Price Paid transaction.\n",
    "A = Standard Price Paid entry, includes single residential property sold for value.\n",
    "B = Additional Price Paid entry including transfers under a power of sale/repossessions, buy-to-lets (where they can be identified by a Mortgage) and transfers to non-private individuals.'\n",
    "\n",
    "The vast majority of the very cheap properties are type 'B', and it's likely that we are looking mostly at shared ownerships. Also there are properties that are likely to be on very short leases. It is around the 60k mark that we start to see significant numbers of properties that might be selling for a fair market rate (ie transaction type A, freehold flats in non central areas).\n",
    "\n",
    "It's likely that there will be a few unrealisticly priced properties above this mark, but short of reseaching the history of every one of them with estate agents, we need to cutoff at some lower price level.\n"
   ]
  },
  {
   "cell_type": "code",
   "execution_count": 144,
   "metadata": {},
   "outputs": [
    {
     "data": {
      "text/plain": [
       "(326909, 11)"
      ]
     },
     "execution_count": 144,
     "metadata": {},
     "output_type": "execute_result"
    }
   ],
   "source": [
    "cleaned_transactions = cleaned_transactions[cleaned_transactions['price'] > 60000]\n",
    "cleaned_transactions.shape"
   ]
  },
  {
   "cell_type": "code",
   "execution_count": 147,
   "metadata": {},
   "outputs": [
    {
     "data": {
      "text/plain": [
       "264"
      ]
     },
     "execution_count": 147,
     "metadata": {},
     "output_type": "execute_result"
    }
   ],
   "source": [
    "# check for duplicates without unique reference, but including door numbers\n",
    "\n",
    "(cleaned_transactions.duplicated(subset = ['price', 'date', 'postcode', 'property_type', 'new_build', 'estate_type', 'primary_address', 'secondary_address','district', 'transaction_type'])).sum()"
   ]
  },
  {
   "cell_type": "code",
   "execution_count": 150,
   "metadata": {},
   "outputs": [
    {
     "data": {
      "text/plain": [
       "(326645, 11)"
      ]
     },
     "execution_count": 150,
     "metadata": {},
     "output_type": "execute_result"
    }
   ],
   "source": [
    "# drop the duplicates\n",
    "\n",
    "cleaned_transactions = cleaned_transactions.drop_duplicates(subset = ['price', 'date', 'postcode', 'property_type', 'new_build', 'estate_type', 'primary_address','secondary_address','district', 'transaction_type'])\n",
    "cleaned_transactions.shape"
   ]
  },
  {
   "cell_type": "code",
   "execution_count": 151,
   "metadata": {},
   "outputs": [
    {
     "data": {
      "text/plain": [
       "(326645, 8)"
      ]
     },
     "execution_count": 151,
     "metadata": {},
     "output_type": "execute_result"
    }
   ],
   "source": [
    "# now we've checked for duplication, we can drop some of the columns\n",
    "\n",
    "cleaned_transactions = cleaned_transactions.drop(columns = ['primary_address', 'secondary_address'])\n",
    "cleaned_transactions.shape"
   ]
  },
  {
   "cell_type": "code",
   "execution_count": 152,
   "metadata": {},
   "outputs": [
    {
     "data": {
      "text/plain": [
       "price                 0\n",
       "date                  0\n",
       "postcode            815\n",
       "property_type         0\n",
       "new_build             0\n",
       "estate_type           0\n",
       "district              0\n",
       "transaction_type      0\n",
       "dtype: int64"
      ]
     },
     "execution_count": 152,
     "metadata": {},
     "output_type": "execute_result"
    }
   ],
   "source": [
    "# check again for missing values\n",
    "\n",
    "cleaned_transactions.isna().sum()"
   ]
  },
  {
   "cell_type": "code",
   "execution_count": 153,
   "metadata": {},
   "outputs": [
    {
     "data": {
      "text/plain": [
       "(325830, 8)"
      ]
     },
     "execution_count": 153,
     "metadata": {},
     "output_type": "execute_result"
    }
   ],
   "source": [
    "#transactions that have missing postcodes can be dropped\n",
    "\n",
    "cleaned_transactions = cleaned_transactions.dropna()\n",
    "cleaned_transactions.shape"
   ]
  },
  {
   "cell_type": "code",
   "execution_count": 70,
   "metadata": {},
   "outputs": [
    {
     "data": {
      "text/plain": [
       "price                        int64\n",
       "date                datetime64[ns]\n",
       "postcode                    object\n",
       "property_type               object\n",
       "new_build                   object\n",
       "estate_type                 object\n",
       "district                    object\n",
       "transaction_type            object\n",
       "dtype: object"
      ]
     },
     "execution_count": 70,
     "metadata": {},
     "output_type": "execute_result"
    }
   ],
   "source": [
    "#convert date column to datetime\n",
    "\n",
    "cleaned_transactions['date'] = pd.to_datetime(cleaned_transactions['date'])\n",
    "cleaned_transactions.dtypes"
   ]
  },
  {
   "cell_type": "code",
   "execution_count": 156,
   "metadata": {},
   "outputs": [
    {
     "data": {
      "text/plain": [
       "SW11 7AY    246\n",
       "E20 1GQ     246\n",
       "E15 1DA     208\n",
       "WC2R 1AB    194\n",
       "SW1W 0AJ    177\n",
       "           ... \n",
       "N9 9RW        1\n",
       "W11 3AD       1\n",
       "SW7 4QP       1\n",
       "SE21 8NY      1\n",
       "N16 7QA       1\n",
       "Name: postcode, Length: 62138, dtype: int64"
      ]
     },
     "execution_count": 156,
     "metadata": {},
     "output_type": "execute_result"
    }
   ],
   "source": [
    "# check that no postcodes have appeared an implausible number of times\n",
    "\n",
    "cleaned_transactions['postcode'].value_counts()"
   ]
  },
  {
   "cell_type": "code",
   "execution_count": 157,
   "metadata": {},
   "outputs": [
    {
     "data": {
      "text/html": [
       "<div>\n",
       "<style scoped>\n",
       "    .dataframe tbody tr th:only-of-type {\n",
       "        vertical-align: middle;\n",
       "    }\n",
       "\n",
       "    .dataframe tbody tr th {\n",
       "        vertical-align: top;\n",
       "    }\n",
       "\n",
       "    .dataframe thead th {\n",
       "        text-align: right;\n",
       "    }\n",
       "</style>\n",
       "<table border=\"1\" class=\"dataframe\">\n",
       "  <thead>\n",
       "    <tr style=\"text-align: right;\">\n",
       "      <th></th>\n",
       "      <th>price</th>\n",
       "      <th>date</th>\n",
       "      <th>postcode</th>\n",
       "      <th>property_type</th>\n",
       "      <th>new_build</th>\n",
       "      <th>estate_type</th>\n",
       "      <th>district</th>\n",
       "      <th>transaction_type</th>\n",
       "    </tr>\n",
       "  </thead>\n",
       "  <tbody>\n",
       "    <tr>\n",
       "      <th>267665</th>\n",
       "      <td>837125</td>\n",
       "      <td>2018-11-21</td>\n",
       "      <td>SW11 7AY</td>\n",
       "      <td>F</td>\n",
       "      <td>Y</td>\n",
       "      <td>L</td>\n",
       "      <td>WANDSWORTH</td>\n",
       "      <td>B</td>\n",
       "    </tr>\n",
       "    <tr>\n",
       "      <th>267666</th>\n",
       "      <td>1420000</td>\n",
       "      <td>2018-11-21</td>\n",
       "      <td>SW11 7AY</td>\n",
       "      <td>F</td>\n",
       "      <td>Y</td>\n",
       "      <td>L</td>\n",
       "      <td>WANDSWORTH</td>\n",
       "      <td>A</td>\n",
       "    </tr>\n",
       "    <tr>\n",
       "      <th>267667</th>\n",
       "      <td>710500</td>\n",
       "      <td>2018-11-27</td>\n",
       "      <td>SW11 7AY</td>\n",
       "      <td>F</td>\n",
       "      <td>Y</td>\n",
       "      <td>L</td>\n",
       "      <td>WANDSWORTH</td>\n",
       "      <td>A</td>\n",
       "    </tr>\n",
       "    <tr>\n",
       "      <th>267668</th>\n",
       "      <td>1211450</td>\n",
       "      <td>2019-01-31</td>\n",
       "      <td>SW11 7AY</td>\n",
       "      <td>F</td>\n",
       "      <td>Y</td>\n",
       "      <td>L</td>\n",
       "      <td>WANDSWORTH</td>\n",
       "      <td>A</td>\n",
       "    </tr>\n",
       "    <tr>\n",
       "      <th>267669</th>\n",
       "      <td>1050000</td>\n",
       "      <td>2018-11-30</td>\n",
       "      <td>SW11 7AY</td>\n",
       "      <td>F</td>\n",
       "      <td>N</td>\n",
       "      <td>L</td>\n",
       "      <td>WANDSWORTH</td>\n",
       "      <td>B</td>\n",
       "    </tr>\n",
       "  </tbody>\n",
       "</table>\n",
       "</div>"
      ],
      "text/plain": [
       "          price       date  postcode property_type new_build estate_type  \\\n",
       "267665   837125 2018-11-21  SW11 7AY             F         Y           L   \n",
       "267666  1420000 2018-11-21  SW11 7AY             F         Y           L   \n",
       "267667   710500 2018-11-27  SW11 7AY             F         Y           L   \n",
       "267668  1211450 2019-01-31  SW11 7AY             F         Y           L   \n",
       "267669  1050000 2018-11-30  SW11 7AY             F         N           L   \n",
       "\n",
       "          district transaction_type  \n",
       "267665  WANDSWORTH                B  \n",
       "267666  WANDSWORTH                A  \n",
       "267667  WANDSWORTH                A  \n",
       "267668  WANDSWORTH                A  \n",
       "267669  WANDSWORTH                B  "
      ]
     },
     "execution_count": 157,
     "metadata": {},
     "output_type": "execute_result"
    }
   ],
   "source": [
    "#new build flats account for the postcodes that come up multiple times\n",
    "\n",
    "cleaned_transactions[cleaned_transactions['postcode'] == 'SW11 7AY'].head()"
   ]
  },
  {
   "cell_type": "code",
   "execution_count": 42,
   "metadata": {},
   "outputs": [
    {
     "data": {
      "image/png": "[encoded data removed]",
      "text/plain": [
       "<Figure size 576x576 with 1 Axes>"
      ]
     },
     "metadata": {},
     "output_type": "display_data"
    }
   ],
   "source": [
    "# take a first look at the target variable\n",
    "# histogram of price data shows long tail to the right, plot again on logarithmic scale\n",
    "\n",
    "fig, ax = plt.subplots(figsize = (8,8))\n",
    "sns.histplot(cleaned_transactions['price'], palette = 'Blues')\n",
    "plt.xscale('log')\n",
    "plt.title('Histogram of London property prices, logarithmic scale');"
   ]
  },
  {
   "cell_type": "code",
   "execution_count": 76,
   "metadata": {},
   "outputs": [
    {
     "data": {
      "text/html": [
       "<div>\n",
       "<style scoped>\n",
       "    .dataframe tbody tr th:only-of-type {\n",
       "        vertical-align: middle;\n",
       "    }\n",
       "\n",
       "    .dataframe tbody tr th {\n",
       "        vertical-align: top;\n",
       "    }\n",
       "\n",
       "    .dataframe thead th {\n",
       "        text-align: right;\n",
       "    }\n",
       "</style>\n",
       "<table border=\"1\" class=\"dataframe\">\n",
       "  <thead>\n",
       "    <tr style=\"text-align: right;\">\n",
       "      <th></th>\n",
       "      <th>price</th>\n",
       "      <th>date</th>\n",
       "      <th>postcode</th>\n",
       "      <th>property_type</th>\n",
       "      <th>new_build</th>\n",
       "      <th>estate_type</th>\n",
       "      <th>district</th>\n",
       "      <th>transaction_type</th>\n",
       "      <th>year</th>\n",
       "    </tr>\n",
       "  </thead>\n",
       "  <tbody>\n",
       "    <tr>\n",
       "      <th>0</th>\n",
       "      <td>455000</td>\n",
       "      <td>2015-10-23</td>\n",
       "      <td>E1 0AE</td>\n",
       "      <td>F</td>\n",
       "      <td>N</td>\n",
       "      <td>L</td>\n",
       "      <td>TOWER HAMLETS</td>\n",
       "      <td>A</td>\n",
       "      <td>2015</td>\n",
       "    </tr>\n",
       "    <tr>\n",
       "      <th>1</th>\n",
       "      <td>378000</td>\n",
       "      <td>2015-08-25</td>\n",
       "      <td>E1 0AE</td>\n",
       "      <td>F</td>\n",
       "      <td>N</td>\n",
       "      <td>L</td>\n",
       "      <td>TOWER HAMLETS</td>\n",
       "      <td>A</td>\n",
       "      <td>2015</td>\n",
       "    </tr>\n",
       "  </tbody>\n",
       "</table>\n",
       "</div>"
      ],
      "text/plain": [
       "    price       date postcode property_type new_build estate_type  \\\n",
       "0  455000 2015-10-23   E1 0AE             F         N           L   \n",
       "1  378000 2015-08-25   E1 0AE             F         N           L   \n",
       "\n",
       "        district transaction_type  year  \n",
       "0  TOWER HAMLETS                A  2015  \n",
       "1  TOWER HAMLETS                A  2015  "
      ]
     },
     "execution_count": 76,
     "metadata": {},
     "output_type": "execute_result"
    }
   ],
   "source": [
    "# unless we want to build a time series model, we need to use data from a period where the prices are relatively stable\n",
    "# we need to check that this is the case before we go much further\n",
    "\n",
    "cleaned_transactions['year'] = cleaned_transactions['date'].dt.year\n",
    "cleaned_transactions.head(2)"
   ]
  },
  {
   "cell_type": "code",
   "execution_count": 79,
   "metadata": {},
   "outputs": [
    {
     "data": {
      "text/plain": [
       "''"
      ]
     },
     "execution_count": 79,
     "metadata": {},
     "output_type": "execute_result"
    },
    {
     "data": {
      "image/png": "[encoded data removed]",
      "text/plain": [
       "<Figure size 576x576 with 1 Axes>"
      ]
     },
     "metadata": {},
     "output_type": "display_data"
    }
   ],
   "source": [
    "# visualise how average prices depend on the year\n",
    "\n",
    "fig, ax = plt.subplots(figsize = (8,8))\n",
    "year_groups = pd.DataFrame(cleaned_transactions.groupby('year')['price'].mean()).reset_index().sort_values(by = 'price')\n",
    "sns.barplot(x = 'price', y = 'year', data = year_groups, palette = 'Blues', orient = 'h')\n",
    "plt.ticklabel_format(style='plain', axis='x')\n",
    "plt.xlabel('Average Price (£)')\n",
    "plt.title('Average Price (£) for each year')\n",
    ";"
   ]
  },
  {
   "cell_type": "markdown",
   "metadata": {},
   "source": [
    "The prices are largely stable over the period in question. Later we might consider dropping the data from 2015 and possibly 2016 to see if this helps, but in the meantime we should be able to work with the whole dataset."
   ]
  }
 ],
 "metadata": {
  "kernelspec": {
   "display_name": "Python 3",
   "language": "python",
   "name": "python3"
  },
  "language_info": {
   "codemirror_mode": {
    "name": "ipython",
    "version": 3
   },
   "file_extension": ".py",
   "mimetype": "text/x-python",
   "name": "python",
   "nbconvert_exporter": "python",
   "pygments_lexer": "ipython3",
   "version": "3.8.5"
  }
 },
 "nbformat": 4,
 "nbformat_minor": 4
}
